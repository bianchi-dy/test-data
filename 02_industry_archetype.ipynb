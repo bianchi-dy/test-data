{
 "cells": [
  {
   "cell_type": "code",
   "execution_count": 8,
   "id": "954cf8ed",
   "metadata": {},
   "outputs": [],
   "source": [
    "import pandas as pd"
   ]
  },
  {
   "cell_type": "code",
   "execution_count": 9,
   "id": "b4b6e044",
   "metadata": {},
   "outputs": [],
   "source": [
    "df = pd.read_csv(\"data/raw-data.csv\")\n",
    "clean_df = pd.read_csv(\"data/cleaned-data-270722.csv\")\n",
    "new_df = pd.read_csv(\"data/new-cleaned-data.csv\")"
   ]
  },
  {
   "cell_type": "code",
   "execution_count": 20,
   "id": "7a52dc00",
   "metadata": {},
   "outputs": [
    {
     "data": {
      "text/plain": [
       "138"
      ]
     },
     "execution_count": 20,
     "metadata": {},
     "output_type": "execute_result"
    }
   ],
   "source": [
    "len(clean_df)"
   ]
  },
  {
   "cell_type": "code",
   "execution_count": 10,
   "id": "e9142d31",
   "metadata": {},
   "outputs": [
    {
     "data": {
      "text/html": [
       "<div>\n",
       "<style scoped>\n",
       "    .dataframe tbody tr th:only-of-type {\n",
       "        vertical-align: middle;\n",
       "    }\n",
       "\n",
       "    .dataframe tbody tr th {\n",
       "        vertical-align: top;\n",
       "    }\n",
       "\n",
       "    .dataframe thead th {\n",
       "        text-align: right;\n",
       "    }\n",
       "</style>\n",
       "<table border=\"1\" class=\"dataframe\">\n",
       "  <thead>\n",
       "    <tr style=\"text-align: right;\">\n",
       "      <th></th>\n",
       "      <th>index</th>\n",
       "      <th>Archetype</th>\n",
       "    </tr>\n",
       "  </thead>\n",
       "  <tbody>\n",
       "    <tr>\n",
       "      <th>0</th>\n",
       "      <td>Transformation</td>\n",
       "      <td>111</td>\n",
       "    </tr>\n",
       "    <tr>\n",
       "      <th>1</th>\n",
       "      <td>Discipline</td>\n",
       "      <td>42</td>\n",
       "    </tr>\n",
       "    <tr>\n",
       "      <th>2</th>\n",
       "      <td>Collapse</td>\n",
       "      <td>13</td>\n",
       "    </tr>\n",
       "    <tr>\n",
       "      <th>3</th>\n",
       "      <td>Growth</td>\n",
       "      <td>9</td>\n",
       "    </tr>\n",
       "  </tbody>\n",
       "</table>\n",
       "</div>"
      ],
      "text/plain": [
       "            index  Archetype\n",
       "0  Transformation        111\n",
       "1      Discipline         42\n",
       "2        Collapse         13\n",
       "3          Growth          9"
      ]
     },
     "execution_count": 10,
     "metadata": {},
     "output_type": "execute_result"
    }
   ],
   "source": [
    "archs = df['Archetype'].value_counts().reset_index()\n",
    "archs"
   ]
  },
  {
   "cell_type": "code",
   "execution_count": 11,
   "id": "33cbdc08",
   "metadata": {},
   "outputs": [
    {
     "data": {
      "text/html": [
       "<div>\n",
       "<style scoped>\n",
       "    .dataframe tbody tr th:only-of-type {\n",
       "        vertical-align: middle;\n",
       "    }\n",
       "\n",
       "    .dataframe tbody tr th {\n",
       "        vertical-align: top;\n",
       "    }\n",
       "\n",
       "    .dataframe thead th {\n",
       "        text-align: right;\n",
       "    }\n",
       "</style>\n",
       "<table border=\"1\" class=\"dataframe\">\n",
       "  <thead>\n",
       "    <tr style=\"text-align: right;\">\n",
       "      <th></th>\n",
       "      <th>index</th>\n",
       "      <th>Archetype</th>\n",
       "      <th>percent</th>\n",
       "    </tr>\n",
       "  </thead>\n",
       "  <tbody>\n",
       "    <tr>\n",
       "      <th>0</th>\n",
       "      <td>Transformation</td>\n",
       "      <td>111</td>\n",
       "      <td>63.428571</td>\n",
       "    </tr>\n",
       "    <tr>\n",
       "      <th>1</th>\n",
       "      <td>Discipline</td>\n",
       "      <td>42</td>\n",
       "      <td>24.000000</td>\n",
       "    </tr>\n",
       "    <tr>\n",
       "      <th>2</th>\n",
       "      <td>Collapse</td>\n",
       "      <td>13</td>\n",
       "      <td>7.428571</td>\n",
       "    </tr>\n",
       "    <tr>\n",
       "      <th>3</th>\n",
       "      <td>Growth</td>\n",
       "      <td>9</td>\n",
       "      <td>5.142857</td>\n",
       "    </tr>\n",
       "  </tbody>\n",
       "</table>\n",
       "</div>"
      ],
      "text/plain": [
       "            index  Archetype    percent\n",
       "0  Transformation        111  63.428571\n",
       "1      Discipline         42  24.000000\n",
       "2        Collapse         13   7.428571\n",
       "3          Growth          9   5.142857"
      ]
     },
     "execution_count": 11,
     "metadata": {},
     "output_type": "execute_result"
    }
   ],
   "source": [
    "archs['percent'] = archs.apply(lambda r: r['Archetype']/archs['Archetype'].sum() * 100, axis=1)\n",
    "archs"
   ]
  },
  {
   "cell_type": "code",
   "execution_count": 12,
   "id": "594ffdc8",
   "metadata": {},
   "outputs": [
    {
     "data": {
      "text/plain": [
       "['-',\n",
       " 'Agriculture Tech',\n",
       " 'Agriculture and tech',\n",
       " 'Arts',\n",
       " 'Arts and Culture',\n",
       " 'Banking',\n",
       " 'Branding',\n",
       " 'Civil Service',\n",
       " 'Community and Social Services',\n",
       " 'Consultancy',\n",
       " 'Consulting',\n",
       " 'Design',\n",
       " 'Design / construction',\n",
       " 'Design education',\n",
       " 'Design function in the F&B industry',\n",
       " 'Design in Tech',\n",
       " 'Digital',\n",
       " 'E-commerce',\n",
       " 'Eco education',\n",
       " 'Education',\n",
       " 'Education, Mental & Emotional Wellness',\n",
       " 'Electronics manufacturing',\n",
       " 'Environment Services',\n",
       " 'Environmental Sustainability',\n",
       " 'FinTech',\n",
       " 'Finance',\n",
       " 'Fintech',\n",
       " 'Futures',\n",
       " 'Government',\n",
       " 'Government (Information Field)',\n",
       " 'Government - Social Service 😅',\n",
       " 'Hazardous Waste',\n",
       " 'Health and sport',\n",
       " 'Healthcare',\n",
       " 'Healthcare tech',\n",
       " 'IT',\n",
       " 'Innovation',\n",
       " 'Innovation/Design',\n",
       " 'IoT',\n",
       " 'Market research',\n",
       " 'Marketplace',\n",
       " 'Medical',\n",
       " 'Music',\n",
       " 'Personal Development',\n",
       " 'Personal, Organisation and systems development',\n",
       " 'Policy',\n",
       " 'Professional Services / Organizational Development',\n",
       " 'Property Development',\n",
       " 'Public Service',\n",
       " 'Public service',\n",
       " 'Research and education',\n",
       " 'Social Sector',\n",
       " 'Social Services',\n",
       " 'Social innovation',\n",
       " 'Social service',\n",
       " 'Software',\n",
       " 'Supply Chain & Logistics',\n",
       " 'Sustainability',\n",
       " 'Tech',\n",
       " 'Technology',\n",
       " 'Telecommunication',\n",
       " 'Transportation',\n",
       " 'Travel',\n",
       " 'Waste',\n",
       " 'consultancy',\n",
       " 'design',\n",
       " 'engineering',\n",
       " 'tech',\n",
       " 'transport']"
      ]
     },
     "execution_count": 12,
     "metadata": {},
     "output_type": "execute_result"
    }
   ],
   "source": [
    "industry = clean_df['Industry'].unique().tolist()\n",
    "industry.sort()\n",
    "industry"
   ]
  },
  {
   "cell_type": "code",
   "execution_count": 15,
   "id": "81811e32",
   "metadata": {},
   "outputs": [],
   "source": [
    "categories = {\n",
    "    \"Design/Arts/Creative\": [],\n",
    "    \"Technology\": [],\n",
    "    \"Government and Social Sector\": [],\n",
    "    \"Organizational Development\": [],\n",
    "    \"Research and Education\": [],\n",
    "    \"Supply Chain & Logistics\": [],\n",
    "    \"Sustainability\": [],\n",
    "    \"Medical\": [],\n",
    "    \"Healthcare\": [],\n",
    "    \"Finance\": [],\n",
    "    \n",
    "    \n",
    "}"
   ]
  },
  {
   "cell_type": "code",
   "execution_count": 16,
   "id": "bdf13344",
   "metadata": {},
   "outputs": [
    {
     "data": {
      "text/plain": [
       "array(['Education / Development', 'Computing / ICT', 'Environment',\n",
       "       'Arts / Design / Creative', 'Logistics / Manufacturing',\n",
       "       'Social Service', 'Management / Consulting', 'Public Service',\n",
       "       'Finance', 'Healthcare'], dtype=object)"
      ]
     },
     "execution_count": 16,
     "metadata": {},
     "output_type": "execute_result"
    }
   ],
   "source": [
    "new_df['Job Tags Broad'].unique()"
   ]
  },
  {
   "cell_type": "code",
   "execution_count": 22,
   "id": "8ff5010e",
   "metadata": {},
   "outputs": [
    {
     "data": {
      "text/html": [
       "<div>\n",
       "<style scoped>\n",
       "    .dataframe tbody tr th:only-of-type {\n",
       "        vertical-align: middle;\n",
       "    }\n",
       "\n",
       "    .dataframe tbody tr th {\n",
       "        vertical-align: top;\n",
       "    }\n",
       "\n",
       "    .dataframe thead th {\n",
       "        text-align: right;\n",
       "    }\n",
       "</style>\n",
       "<table border=\"1\" class=\"dataframe\">\n",
       "  <thead>\n",
       "    <tr style=\"text-align: right;\">\n",
       "      <th></th>\n",
       "      <th>index</th>\n",
       "      <th>Job Tags Broad</th>\n",
       "    </tr>\n",
       "  </thead>\n",
       "  <tbody>\n",
       "    <tr>\n",
       "      <th>0</th>\n",
       "      <td>Arts / Design / Creative</td>\n",
       "      <td>46</td>\n",
       "    </tr>\n",
       "    <tr>\n",
       "      <th>1</th>\n",
       "      <td>Education / Development</td>\n",
       "      <td>22</td>\n",
       "    </tr>\n",
       "    <tr>\n",
       "      <th>2</th>\n",
       "      <td>Management / Consulting</td>\n",
       "      <td>13</td>\n",
       "    </tr>\n",
       "    <tr>\n",
       "      <th>3</th>\n",
       "      <td>Public Service</td>\n",
       "      <td>13</td>\n",
       "    </tr>\n",
       "    <tr>\n",
       "      <th>4</th>\n",
       "      <td>Computing / ICT</td>\n",
       "      <td>12</td>\n",
       "    </tr>\n",
       "    <tr>\n",
       "      <th>5</th>\n",
       "      <td>Finance</td>\n",
       "      <td>10</td>\n",
       "    </tr>\n",
       "    <tr>\n",
       "      <th>6</th>\n",
       "      <td>Environment</td>\n",
       "      <td>7</td>\n",
       "    </tr>\n",
       "    <tr>\n",
       "      <th>7</th>\n",
       "      <td>Social Service</td>\n",
       "      <td>7</td>\n",
       "    </tr>\n",
       "    <tr>\n",
       "      <th>8</th>\n",
       "      <td>Healthcare</td>\n",
       "      <td>4</td>\n",
       "    </tr>\n",
       "    <tr>\n",
       "      <th>9</th>\n",
       "      <td>Logistics / Manufacturing</td>\n",
       "      <td>4</td>\n",
       "    </tr>\n",
       "  </tbody>\n",
       "</table>\n",
       "</div>"
      ],
      "text/plain": [
       "                       index  Job Tags Broad\n",
       "0   Arts / Design / Creative              46\n",
       "1    Education / Development              22\n",
       "2    Management / Consulting              13\n",
       "3             Public Service              13\n",
       "4            Computing / ICT              12\n",
       "5                    Finance              10\n",
       "6                Environment               7\n",
       "7             Social Service               7\n",
       "8                 Healthcare               4\n",
       "9  Logistics / Manufacturing               4"
      ]
     },
     "execution_count": 22,
     "metadata": {},
     "output_type": "execute_result"
    }
   ],
   "source": [
    "clean_df['Job Tags Broad'].value_counts().reset_index()"
   ]
  },
  {
   "cell_type": "code",
   "execution_count": 21,
   "id": "fc4fb9fa",
   "metadata": {},
   "outputs": [],
   "source": [
    "clean_df['Job Tags Broad'].value_counts().reset_index().to_csv('data/industry-count.csv')"
   ]
  },
  {
   "cell_type": "code",
   "execution_count": 19,
   "id": "570985b8",
   "metadata": {},
   "outputs": [],
   "source": [
    "new_df[['Job Tags Broad', \"id\"]].to_csv('data/industry-count-2.csv')"
   ]
  },
  {
   "cell_type": "code",
   "execution_count": null,
   "id": "b2f37e19",
   "metadata": {},
   "outputs": [],
   "source": []
  }
 ],
 "metadata": {
  "kernelspec": {
   "display_name": "Python 3",
   "language": "python",
   "name": "python3"
  },
  "language_info": {
   "codemirror_mode": {
    "name": "ipython",
    "version": 3
   },
   "file_extension": ".py",
   "mimetype": "text/x-python",
   "name": "python",
   "nbconvert_exporter": "python",
   "pygments_lexer": "ipython3",
   "version": "3.9.7"
  }
 },
 "nbformat": 4,
 "nbformat_minor": 5
}
